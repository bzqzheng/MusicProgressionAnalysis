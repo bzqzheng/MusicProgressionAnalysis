{
 "cells": [
  {
   "cell_type": "code",
   "execution_count": 32,
   "metadata": {
    "collapsed": false
   },
   "outputs": [],
   "source": [
    "import bs4\n",
    "import requests\n",
    "import pandas\n",
    "pandas.set_option('display.max_rows',100)"
   ]
  },
  {
   "cell_type": "code",
   "execution_count": 42,
   "metadata": {
    "collapsed": false
   },
   "outputs": [],
   "source": [
    "# Returns the Beautifulsoup of the input 'web_url'\n",
    "def soup_page(web_url):\n",
    "    req = requests.get(web_url)\n",
    "    req_soup = bs4.BeautifulSoup(req.content, 'html.parser')\n",
    "    return req_soup\n",
    "\n",
    "# This function scrapes chords from a ultimate guitar website and\n",
    "# returns a list of all the chords on that page\n",
    "def get_chords(web_url):\n",
    "    req_soup = soup_page(web_url)\n",
    "    content = req_soup.find_all('pre', {'class':'js-tab-content'})\n",
    "    chords_list = [word.replace('<span>', '').replace('</span>', '').replace('</pre>]', '') for word in str(content).split() if word[0:6] == '<span>']\n",
    "    return chords_list\n",
    "\n",
    "# Check whether a certain query has any result on ultimate guitar\n",
    "# return false if there is at least one result, true otherwise\n",
    "def check_no_result(soup_result):\n",
    "    not_found = soup_result.find_all('div',{'class':'not_found'})\n",
    "    return len(not_found) != 0\n",
    "\n",
    "# Returns the table of different versions from the search page\n",
    "def get_table(soup_result):\n",
    "    return soup_result.find_all('table', {'class':'tresults'})[0]\n",
    "\n",
    "# Returns a list of rows\n",
    "def get_rows(soup_result):\n",
    "    return get_table(soup_result).find_all('tr')[1:len(get_table(soup_result))]\n",
    "\n",
    "# Returns the rating of a certain row in the ultimate guitar result page\n",
    "def get_rating(row):\n",
    "    temp_rate = row.find('td', {'class':'gray4 tresults--rating'})\n",
    "    rate_list = temp_rate.find_all('b', {'class':'ratdig'})\n",
    "    if (len(rate_list) > 0):\n",
    "        rate = rate_list[0].text.strip()\n",
    "        return float(rate)\n",
    "\n",
    "# Returns the type of a certain row in a result page\n",
    "def get_type(row):\n",
    "    row_type_list = row.find_all('strong')\n",
    "    if (len(row_type_list) > 0):\n",
    "        row_type = row_type_list[0].text.strip()\n",
    "        return row_type\n",
    "\n",
    "# Return the url of a certain row (version) of chords in a result page\n",
    "def get_url(row):\n",
    "    search_version = row.find_all('td',{'class':'search-version--td'})[0]\n",
    "    href = search_version.find_all('a')[0].attrs['href']\n",
    "    return href\n",
    "\n",
    "# Gets the top 100 songs from Billboard of the input year\n",
    "def get_top100(int_year):\n",
    "    pairs = list()\n",
    "    top100Songs = list()\n",
    "    pairs = [data(d) for d in update_bbd_url(int_year)]\n",
    "    for p in pairs:\n",
    "        top100Songs += p\n",
    "    return top100Songs\n",
    "\n",
    "# Converts the top 100 songs in a particular year into\n",
    "# a searchable string\n",
    "def get_top100_query(int_year):\n",
    "    if (int_year > 2016): int_year = 2016\n",
    "    elif (int_year < 2006): int_year = 2006\n",
    "    top100 = get_top100(int_year)\n",
    "    result = [clean_pair(pair) for pair in top100]\n",
    "    return result\n",
    "\n",
    "# clean (artist, song title pair)\n",
    "def clean_pair(pair):\n",
    "    return clean_name(pair[0]) + ' ' + clean_name(pair[1])\n",
    "\n",
    "# Clean up both artist name and song titles from get_top100() list\n",
    "def clean_name(str_input):\n",
    "    return str_input.lower().replace('(','').replace(')','').replace('&','').split('featuring',1)[0]\n",
    "\n",
    "# Generates a search result page based on the input\n",
    "# The url can be both a list of different versions of chords\n",
    "# or \"No Result\" page\n",
    "def search_url(str_query):\n",
    "    root = 'https://www.ultimate-guitar.com/search.php?search_type=title&order=&value='\n",
    "    str_query = str_query.replace(' ', '+')\n",
    "    return root+str_query\n",
    "\n",
    "# -- Puyush's functions --\n",
    "def get_bbd_year_url(year_input):\n",
    "    url = 'http://www.billboard.com/charts/year-end/'\n",
    "    url += str(year_input)\n",
    "    url += '/hot-100-songs'\n",
    "    return url\n",
    "\n",
    "def update_bbd_url(int_year):\n",
    "    billboard = requests.get(get_bbd_year_url(int_year))\n",
    "    billboard_soup = bs4.BeautifulSoup(billboard.content, 'html.parser')\n",
    "    innerContent =  billboard_soup.find_all('div', {'data-content-type': 'yearEndChart'})\n",
    "    artistData = innerContent[0].find_all('div' , {'class': 'ye-chart__layout-row'})\n",
    "    artistData = artistData[1:]\n",
    "    return artistData\n",
    "\n",
    "def data(row):\n",
    "    p = list()\n",
    "    article = row.find_all('article', {'id': 'chart'})\n",
    "    for i in range(len(article)):\n",
    "        article_chart = article[i].find_all('div', {'class': 'ye-chart__item-primary'})\n",
    "        songTitle = article_chart[0].find_all('h1', {'class':'ye-chart__item-title'})[0].text.strip()\n",
    "        artistName = article_chart[0].find_all('h2', {'class':'ye-chart__item-subtitle'})[0].text.strip()\n",
    "        p.append((artistName, songTitle))\n",
    "    return p\n",
    "# -- End of Puyush's functions --"
   ]
  },
  {
   "cell_type": "code",
   "execution_count": 28,
   "metadata": {
    "collapsed": false,
    "scrolled": true
   },
   "outputs": [],
   "source": [
    "top_list = get_top100(2015)"
   ]
  },
  {
   "cell_type": "code",
   "execution_count": 29,
   "metadata": {
    "collapsed": false,
    "scrolled": true
   },
   "outputs": [],
   "source": [
    "result_list_2015 = list()\n",
    "for song in top_list:\n",
    "    query = clean_pair(song)\n",
    "    search_result_url = search_url(query)\n",
    "    search_result_soup = soup_page(search_result_url)\n",
    "    if (not check_no_result(search_result_soup)):\n",
    "        rows = get_rows(search_result_soup)\n",
    "        max_rating = 0\n",
    "        max_url = \"\"\n",
    "        for row in rows:\n",
    "            if get_type(row).lower() == 'chords' and get_rating(row) != None and get_rating(row) > max_rating:\n",
    "                max_rating = get_rating(row)\n",
    "                max_url = get_url(row)\n",
    "        if (max_rating != 0):\n",
    "            tt = (song[0], song[1], max_rating, max_url)\n",
    "            result_list_2015.append(tt)\n",
    "\n",
    "result_df = pandas.DataFrame(result_list_2015, columns=['artist', 'title', 'rating', 'url'])"
   ]
  },
  {
   "cell_type": "code",
   "execution_count": 35,
   "metadata": {
    "collapsed": false,
    "scrolled": true
   },
   "outputs": [
    {
     "data": {
      "text/plain": [
       "['justin bieber love yourself', 'justin bieber sorry']"
      ]
     },
     "execution_count": 35,
     "metadata": {},
     "output_type": "execute_result"
    }
   ],
   "source": [
    "test_query = get_top100_query(2016)[0:2]\n",
    "test_query"
   ]
  },
  {
   "cell_type": "code",
   "execution_count": 43,
   "metadata": {
    "collapsed": false
   },
   "outputs": [
    {
     "name": "stdout",
     "output_type": "stream",
     "text": [
      "https://tabs.ultimate-guitar.com/j/justin_bieber/love_yourself_crd.htm\n",
      "['C', 'G/B', 'Am', 'Dm', 'C', 'G/B', 'C', 'G/B', 'Am', 'Dm', 'C', 'G/B', 'C', 'G/B', 'Am', 'Dm', 'C', 'G/B', 'C', 'G/B', 'Am', 'Dm', 'C', 'G/B', 'Am', 'F', 'C', 'Am', 'F', 'C', 'Am', 'F', 'C', 'G', 'Am', 'F', 'G', 'C', 'G', 'Am', 'F', 'C', 'G', 'C', 'C', 'G', 'Am', 'F', 'C', 'G', 'C', 'C', 'G/B', 'Am', 'Dm', 'C', 'G/B', 'C', 'G/B', 'Am', 'Dm', 'C', 'G/B', 'C', 'G/B', 'Am', 'Dm', 'C', 'G/B', 'C', 'G/B', 'Am', 'Dm', 'C', 'G/B', 'Am', 'F', 'C', 'Am', 'F', 'C', 'Am', 'F', 'C', 'G', 'Am', 'F', 'G', 'C', 'G', 'Am', 'F', 'C', 'G', 'C', 'C', 'G', 'Am', 'F', 'C', 'G', 'C', 'C', 'G', 'Am', 'F', 'C', 'G', 'C', 'C', 'G', 'Am', 'F', 'C', 'G', 'C', 'C', 'G/B', 'Am', 'Dm', 'C', 'G/B', 'C', 'G/B', 'Am', 'Dm', 'C', 'G/B', 'C', 'G', 'Am', 'F', 'C', 'G', 'C', 'C', 'G', 'Am', 'F', 'C', 'G', 'C', 'C', 'G', 'Am', 'F', 'C', 'G', 'C', 'C', 'G', 'Am', 'F', 'C', 'G', 'C']\n",
      "https://tabs.ultimate-guitar.com/j/justin_bieber/sorry_crd.htm\n",
      "['F', 'Am', 'G', 'F', 'Am', 'G', 'F', 'Am', 'G', 'F', 'Am', 'G', 'F', 'Am', 'G', 'F', 'Am', 'G', 'F', 'Am', 'G', 'F', 'Am', 'G', 'F', 'Am', 'G', 'F', 'Am', 'G', 'F', 'Am', 'G', 'F', 'Am', 'G', 'F', 'Am', 'G', 'Dm', 'F', 'G', 'F', 'Am', 'G', 'F', 'Am', 'G', 'F', 'Am', 'G', 'Dm', 'F', 'G', 'F', 'Am', 'G', 'F', 'Am', 'G', 'F', 'Am', 'G', 'F', 'Am', 'G', 'F', 'Am', 'G', 'F', 'Am', 'G', 'F', 'Am', 'G', 'F', 'Am', 'G', 'Dm', 'F', 'G', 'F', 'Am', 'G', 'F', 'Am', 'G', 'F', 'Am', 'G', 'Dm', 'F', 'G', 'F', 'Am', 'G', 'F', 'Am', 'G', 'F', 'Am', 'G', 'Dm', 'F', 'G', 'F', 'Am', 'G', 'F', 'Am', 'G', 'F', 'Am', 'G', 'Dm', 'F', 'G', 'F', 'Am', 'G', 'F', 'Am', 'G']\n"
     ]
    }
   ],
   "source": [
    "for query in test_query:\n",
    "    query_url = search_url(query)\n",
    "    soup = soup_page(query_url)\n",
    "    if (not check_no_result(soup)):\n",
    "        rows = get_rows(soup)\n",
    "        max_rating = 0\n",
    "        max_url = \"\"\n",
    "        for row in rows:\n",
    "            if get_type(row).lower() == 'chords' and get_rating(row) != None and get_rating(row) > max_rating:\n",
    "                max_rating = get_rating(row)\n",
    "                max_url = get_url(row)\n",
    "        print(max_url)\n",
    "        chord_list = get_chords(max_url)\n",
    "        print(chord_list)"
   ]
  },
  {
   "cell_type": "code",
   "execution_count": null,
   "metadata": {
    "collapsed": false
   },
   "outputs": [],
   "source": []
  },
  {
   "cell_type": "code",
   "execution_count": null,
   "metadata": {
    "collapsed": true
   },
   "outputs": [],
   "source": []
  }
 ],
 "metadata": {
  "anaconda-cloud": {},
  "kernelspec": {
   "display_name": "Python [conda root]",
   "language": "python",
   "name": "conda-root-py"
  },
  "language_info": {
   "codemirror_mode": {
    "name": "ipython",
    "version": 3
   },
   "file_extension": ".py",
   "mimetype": "text/x-python",
   "name": "python",
   "nbconvert_exporter": "python",
   "pygments_lexer": "ipython3",
   "version": "3.5.2"
  }
 },
 "nbformat": 4,
 "nbformat_minor": 1
}
