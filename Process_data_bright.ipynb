{
 "cells": [
  {
   "cell_type": "code",
   "execution_count": 138,
   "metadata": {
    "collapsed": true
   },
   "outputs": [],
   "source": [
    "import pandas\n",
    "pandas.set_option('display.max_rows',1000)\n",
    "pandas.set_option('display.max_columns',10000)\n",
    "import numpy"
   ]
  },
  {
   "cell_type": "code",
   "execution_count": 139,
   "metadata": {
    "collapsed": false,
    "scrolled": true
   },
   "outputs": [],
   "source": [
    "m2016 = pandas.read_csv('music2016.csv')\n",
    "m2016 = m2016.drop(m2016.columns[0], axis=1)"
   ]
  },
  {
   "cell_type": "code",
   "execution_count": 148,
   "metadata": {
    "collapsed": false
   },
   "outputs": [],
   "source": [
    "# Pointwise Mutual Information calculator\n",
    "# @Parameters:\n",
    "#     - co_curr: number of counts of two words together\n",
    "#     - a_curr: number of counts of word A (a_curr > co_curr)\n",
    "#     - b_curr: number of counts of word B (b_curr > co_curr)\n",
    "#     - doc_size: word population\n",
    "def pmi(co_curr, a_curr, b_curr, doc_size):\n",
    "    ratio = (co_curr*doc_size) / ((a_curr) * (b_curr))\n",
    "    PMI = numpy.log(ratio)\n",
    "    return PMI\n",
    "\n",
    "def get_chord_pair_set(cd_list):\n",
    "    result_pair = list()\n",
    "    for i in range(0, len(cd_list)-1):\n",
    "        temp_str = str(cd_list[i]+' '+cd_list[i+1])\n",
    "        result_pair.append(temp_str)\n",
    "    result_pair_set = set(result_pair)\n",
    "    return result_pair_set"
   ]
  },
  {
   "cell_type": "code",
   "execution_count": 157,
   "metadata": {
    "collapsed": false
   },
   "outputs": [],
   "source": [
    "pair_set = get_chord_pair_set(m2016.chords[0].split(' '))"
   ]
  },
  {
   "cell_type": "code",
   "execution_count": 185,
   "metadata": {
    "collapsed": false
   },
   "outputs": [],
   "source": [
    "pmi_pair = list()\n",
    "for pair in pair_set:\n",
    "    co_curr = m2016.chords[0].count(pair)\n",
    "    pair = pair.split(' ')\n",
    "    a_curr = m2016.chords[0].split(' ').count(pair[0])\n",
    "    b_curr = m2016.chords[0].split(' ').count(pair[1])\n",
    "    doc_size = len(m2016.chords[0])\n",
    "    pmi_pair.append((pair, pmi(co_curr, a_curr, b_curr, doc_size)))"
   ]
  },
  {
   "cell_type": "code",
   "execution_count": 191,
   "metadata": {
    "collapsed": false
   },
   "outputs": [],
   "source": [
    "pmi_pair.sort(key=lambda p: p[1], reverse=True)"
   ]
  },
  {
   "cell_type": "code",
   "execution_count": 192,
   "metadata": {
    "collapsed": false
   },
   "outputs": [
    {
     "name": "stdout",
     "output_type": "stream",
     "text": [
      "[(['Am', 'F'], 2.6313748334432425), (['Am', 'Dm'], 2.6313748334432425), (['C', 'G'], 2.4978434408187198), (['G/B', 'Am'], 2.1205492096772516), (['C', 'G/B'], 1.9382276528832971), (['G', 'Am'], 1.9382276528832971), (['Dm', 'C'], 1.9382276528832971), (['F', 'C'], 1.8204446172269138), (['G', 'C'], 1.2450804723233517), (['G/B', 'C'], 1.021936921009142), (['F', 'G'], 0.58830093593428123), (['C', 'C'], 0.11010053948436717), (['C', 'Am'], -0.0076824961720162819)]\n"
     ]
    }
   ],
   "source": [
    "print(pmi_pair)"
   ]
  },
  {
   "cell_type": "code",
   "execution_count": null,
   "metadata": {
    "collapsed": true
   },
   "outputs": [],
   "source": []
  },
  {
   "cell_type": "code",
   "execution_count": null,
   "metadata": {
    "collapsed": true
   },
   "outputs": [],
   "source": []
  }
 ],
 "metadata": {
  "anaconda-cloud": {},
  "kernelspec": {
   "display_name": "Python [conda root]",
   "language": "python",
   "name": "conda-root-py"
  },
  "language_info": {
   "codemirror_mode": {
    "name": "ipython",
    "version": 3
   },
   "file_extension": ".py",
   "mimetype": "text/x-python",
   "name": "python",
   "nbconvert_exporter": "python",
   "pygments_lexer": "ipython3",
   "version": "3.5.2"
  }
 },
 "nbformat": 4,
 "nbformat_minor": 1
}
