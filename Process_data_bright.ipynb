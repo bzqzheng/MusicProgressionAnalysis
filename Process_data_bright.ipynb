{
 "cells": [
  {
   "cell_type": "code",
   "execution_count": 116,
   "metadata": {
    "collapsed": true
   },
   "outputs": [],
   "source": [
    "import pandas\n",
    "pandas.set_option('display.max_rows',1000)\n",
    "pandas.set_option('display.max_columns',10000)\n",
    "import numpy"
   ]
  },
  {
   "cell_type": "code",
   "execution_count": 117,
   "metadata": {
    "collapsed": false,
    "scrolled": true
   },
   "outputs": [],
   "source": [
    "m2016 = pandas.read_csv('music2016.csv')\n",
    "m2016 = m2016.drop(m2016.columns[0], axis=1)"
   ]
  },
  {
   "cell_type": "code",
   "execution_count": 172,
   "metadata": {
    "collapsed": false
   },
   "outputs": [],
   "source": [
    "# Pointwise Mutual Information calculator\n",
    "# @Parameters:\n",
    "#     - co_curr: number of counts of two words together\n",
    "#     - a_curr: number of counts of word A (a_curr > co_curr)\n",
    "#     - b_curr: number of counts of word B (b_curr > co_curr)\n",
    "#     - doc_size: word population\n",
    "def pmi(co_curr, a_curr, b_curr, doc_size):\n",
    "    ratio = (co_curr*doc_size) / ((a_curr) * (b_curr))\n",
    "    PMI = numpy.log(ratio)\n",
    "    return PMI\n",
    "\n",
    "# Converts chord list (input) into a set of chord pairs\n",
    "# @Parameters:\n",
    "#    - cd_list: chord list\n",
    "def get_chord_pair_set(cd_list):\n",
    "    result_pair = list()\n",
    "    for i in range(0, len(cd_list)-1):\n",
    "        temp_str = str(cd_list[i]+' '+cd_list[i+1])\n",
    "        result_pair.append(temp_str)\n",
    "    result_pair_set = set(result_pair)\n",
    "    return result_pair_set\n",
    "\n",
    "# Given a year, output a pandas data frame with \n",
    "def get_ranked_pair(year):\n",
    "    file_name = 'music'+str(year)+'.csv'\n",
    "    df = pandas.read_csv(file_name)\n",
    "    df = df.drop(df.columns[0], axis=1)\n",
    "    result_df = pandas.DataFrame()\n",
    "    for i in range(0,len(df.chords)):\n",
    "        col_name = i\n",
    "        pair_set = get_chord_pair_set(str(df.chords[i]).split(' '))\n",
    "        if len(pair_set) < 3:\n",
    "            result_df[col_name] = [\"\", \"\", \"\"]\n",
    "            continue\n",
    "        pmi_pair = list()\n",
    "        for pair in pair_set:\n",
    "            co_curr = df.chords[i].count(pair)\n",
    "            pair_list = pair.split(' ')\n",
    "            a_curr = df.chords[i].split(' ').count(pair_list[0])\n",
    "            b_curr = df.chords[i].split(' ').count(pair_list[1])\n",
    "            doc_size = len(df.chords[i].split(' '))\n",
    "            pmi_pair.append((pair, pmi(co_curr, a_curr, b_curr, doc_size)))            \n",
    "        pmi_pair.sort(key=lambda p: p[1], reverse=True)\n",
    "        pmi_pair = [str(pair[0]) for pair in pmi_pair]\n",
    "        result_df[col_name] = pmi_pair[0:3]\n",
    "        res_df = result_df.transpose()\n",
    "        res_df.columns = ['top_1', 'top_2', 'top_3']\n",
    "        comb_df = pandas.concat([df, res_df], axis=1)\n",
    "    return comb_df"
   ]
  },
  {
   "cell_type": "code",
   "execution_count": 173,
   "metadata": {
    "collapsed": false
   },
   "outputs": [],
   "source": [
    "def write_csv(i):\n",
    "    file_name = 'music'+str(i)+'_chords.csv'\n",
    "    get_ranked_pair(i).to_csv(file_name)"
   ]
  },
  {
   "cell_type": "code",
   "execution_count": 175,
   "metadata": {
    "collapsed": false
   },
   "outputs": [],
   "source": [
    "for i in range(2006, 2016):\n",
    "    write_csv(i)"
   ]
  },
  {
   "cell_type": "code",
   "execution_count": null,
   "metadata": {
    "collapsed": true
   },
   "outputs": [],
   "source": []
  }
 ],
 "metadata": {
  "anaconda-cloud": {},
  "kernelspec": {
   "display_name": "Python [conda root]",
   "language": "python",
   "name": "conda-root-py"
  },
  "language_info": {
   "codemirror_mode": {
    "name": "ipython",
    "version": 3
   },
   "file_extension": ".py",
   "mimetype": "text/x-python",
   "name": "python",
   "nbconvert_exporter": "python",
   "pygments_lexer": "ipython3",
   "version": "3.5.2"
  }
 },
 "nbformat": 4,
 "nbformat_minor": 1
}
